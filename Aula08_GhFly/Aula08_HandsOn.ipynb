{
  "cells": [
    {
      "cell_type": "markdown",
      "metadata": {},
      "source": [
        "# Aula 08 - Análise exploratória com GhFly\n",
        "\n",
        "Documentos de referência:\n",
        "\n",
        "- https://pandas.pydata.org/docs/reference/frame.html\n",
        "- https://matplotlib.org/stable/users/index.html\n",
        "- https://seaborn.pydata.org/tutorial.html\n",
        "- https://docs.python.org/3/library/re.html"
      ]
    },
    {
      "cell_type": "markdown",
      "metadata": {},
      "source": [
        "### Carregar bibliotecas"
      ]
    },
    {
      "cell_type": "code",
      "execution_count": null,
      "metadata": {
        "id": "0a2Z99Abg6bP"
      },
      "outputs": [],
      "source": [
        "# Carregando bibliotecas necessárias\n"
      ]
    },
    {
      "cell_type": "markdown",
      "metadata": {},
      "source": [
        "### Carregar conjuntos de dados"
      ]
    },
    {
      "cell_type": "code",
      "execution_count": null,
      "metadata": {
        "id": "HEJY4utig6bQ"
      },
      "outputs": [],
      "source": [
        "# Carregar os datasets\n"
      ]
    },
    {
      "cell_type": "code",
      "execution_count": null,
      "metadata": {
        "colab": {
          "base_uri": "https://localhost:8080/",
          "height": 206
        },
        "id": "8Y04tLlbg6bR",
        "outputId": "1cfe2ea9-9fe6-4b2c-e6a0-82c8ba060c4a"
      },
      "outputs": [],
      "source": [
        "# Visualizar tabela vendas\n"
      ]
    },
    {
      "cell_type": "code",
      "execution_count": null,
      "metadata": {
        "colab": {
          "base_uri": "https://localhost:8080/",
          "height": 206
        },
        "id": "M2uByVahqFEq",
        "outputId": "ceff439a-ad8f-4560-a103-ab54bfb8ddf1"
      },
      "outputs": [],
      "source": [
        "# Visualizar tabela clientes\n"
      ]
    },
    {
      "cell_type": "markdown",
      "metadata": {},
      "source": [
        "### Tratamentos iniciais\n",
        "\n",
        "* Remoção de colunas indesejadas\n",
        "* Verificação e remoção de valores ausentes\n",
        "* Correção e-mails inválidos \n",
        "* Conversão de tipos de dados"
      ]
    },
    {
      "cell_type": "markdown",
      "metadata": {
        "id": "4-8UFYD6g6bR"
      },
      "source": [
        "* Vamos remover as colunas de índice nomeadas como 'Unnamed: 0' que não serão necessárias para nosso projeto"
      ]
    },
    {
      "cell_type": "code",
      "execution_count": null,
      "metadata": {},
      "outputs": [],
      "source": [
        "# Remover colunas indesejadas\n"
      ]
    },
    {
      "cell_type": "markdown",
      "metadata": {},
      "source": [
        "* Na sequência vamos usar a função **.isnull()** para somar os valores ausentes nas duas tabelas. Depois vamos usar **.dropna()** para remover as linhas sem valores."
      ]
    },
    {
      "cell_type": "code",
      "execution_count": null,
      "metadata": {},
      "outputs": [],
      "source": [
        "# Verificar valores ausentes\n"
      ]
    },
    {
      "cell_type": "code",
      "execution_count": null,
      "metadata": {},
      "outputs": [],
      "source": [
        "# Remover linhas com valores ausentes\n"
      ]
    },
    {
      "cell_type": "markdown",
      "metadata": {},
      "source": [
        "### Expressão Regular (Regex)\n",
        "A expressão regular r'^[a-zA-Z0-9._%+-]+@[a-zA-Z0-9.-]+\\.[a-zA-Z]{2,}$' é usada para definir um padrão para correspondência de strings:\n",
        "\n",
        "* **^** Indica o início da string\n",
        "* **$** Indica o fim da string\n",
        "\n",
        "#### Parte01(nome): *^[a-zA-Z0-9._%+-]+*\n",
        "#### Parte02(domínio): *@[a-zA-Z0-9.-]*\n",
        "#### Parte03(.com): *\\.[a-zA-Z]{2,}*"
      ]
    },
    {
      "cell_type": "markdown",
      "metadata": {},
      "source": [
        "A função **validar_email** usa a expressão regular para verificar se um e-mail é válido. A função **re.match** tenta encontrar uma correspondência entre a expressão e a string de e-mail. Se a correspondência for encontrada retorna um objeto, caso não seja retorna \"None\".\n",
        "\n",
        "A função **bool** converte o resultado da correspondência em um valor booleano. Se a correspondência for encontrada retorna \"True\", caso nenhuma seja encontrada \"False\""
      ]
    },
    {
      "cell_type": "code",
      "execution_count": null,
      "metadata": {},
      "outputs": [],
      "source": [
        "# Definir a função de validação de e-mail usando Regex\n"
      ]
    },
    {
      "cell_type": "markdown",
      "metadata": {},
      "source": [
        "* Usar a função **str.contains** para contar os e-mails que possuem o caractere # e **str.replace** com regex para realizar a substituição. A flag **regex=True** garante que a substituição é feita utilizando expressões regulares."
      ]
    },
    {
      "cell_type": "code",
      "execution_count": null,
      "metadata": {},
      "outputs": [],
      "source": [
        "# Contar a quantidade de e-mails que possuem '#' ao invés de '@'\n"
      ]
    },
    {
      "cell_type": "code",
      "execution_count": null,
      "metadata": {},
      "outputs": [],
      "source": [
        "# Substituir '#' por '@' na coluna de e-mail usando regex\n"
      ]
    },
    {
      "cell_type": "markdown",
      "metadata": {},
      "source": [
        "### Função para Conversão de Colunas"
      ]
    },
    {
      "cell_type": "code",
      "execution_count": null,
      "metadata": {
        "colab": {
          "base_uri": "https://localhost:8080/"
        },
        "id": "ClUsrxlag6bS",
        "outputId": "524106f4-e37b-4934-9340-10f93e1f596d"
      },
      "outputs": [],
      "source": [
        "# Verificar os tipos de dados novamente\n"
      ]
    },
    {
      "cell_type": "markdown",
      "metadata": {
        "id": "mU_pBoiFkasJ"
      },
      "source": [
        "* A coluna 'InvoiceDate' separa as datas por ponto fazendo com que a coluna seja do tipo object. Isso dificulta a análise descritiva e por consequência o desenvolvimento do estudo RFV. Vamos converter a coluna usando o método **pd.to_datetime**\n",
        "\n",
        "* Todas as colunas estão em formato de objeto (string). No dia-a-dia isso é extremamente comum, muitas vezes os conjuntos de dados trabalhados não vai estar no formato de dados adequado e será necessário realizar o tratamento dos dados antes de qualquer análise avançada. Aqui podemos usar vários métodos (astype ou pd.to_numeric) do Pandas. Vamos escolher o **'pd.to_numeric'**"
      ]
    },
    {
      "cell_type": "code",
      "execution_count": null,
      "metadata": {
        "id": "vnnGznQek8bi"
      },
      "outputs": [],
      "source": [
        "# Converter a colunas sem usar função\n",
        "#vendas_df['InvoiceDate'] = pd.to_datetime(vendas_df['InvoiceDate'])   \n",
        "\n",
        "#clientes_df['gender'] = pd.to_numeric(clientes_df['gender'])\n",
        "#clientes_df['age'] = pd.to_numeric(clientes_df['age'])\n",
        "#clientes_df['annual.Salary'] = pd.to_numeric(clientes_df['annual.Salary'])\n",
        "#clientes_df['credit.card.debt'] = pd.to_numeric(clientes_df['credit.card.debt'])\n",
        "#clientes_df['net.worth'] = pd.to_numeric(clientes_df['net.worth'])"
      ]
    },
    {
      "cell_type": "markdown",
      "metadata": {},
      "source": [
        "## Usando **pd.to_numeric** em uma função"
      ]
    },
    {
      "cell_type": "code",
      "execution_count": null,
      "metadata": {},
      "outputs": [],
      "source": [
        "# Criar a função\n",
        "\n",
        "\n",
        "\n",
        "# Definir conversões \n",
        "\n",
        "\n",
        "\n",
        "# Aplicar conversões\n"
      ]
    },
    {
      "cell_type": "markdown",
      "metadata": {
        "id": "8ex4fqgb6Kmw"
      },
      "source": [
        "* Notamos também que a coluna 'age' contém a idade dos clientes em formato decimal, exemplo '42.18'. Para resolver isso vamos precisar usar o método **.round**"
      ]
    },
    {
      "cell_type": "code",
      "execution_count": null,
      "metadata": {
        "colab": {
          "base_uri": "https://localhost:8080/",
          "height": 206
        },
        "id": "cZdOMJ7aqLT5",
        "outputId": "89467967-c953-4f44-d984-2c977073a397"
      },
      "outputs": [],
      "source": [
        "# Arredondar a coluna 'age' para inteiros\n"
      ]
    },
    {
      "cell_type": "markdown",
      "metadata": {},
      "source": [
        "* Por fim vamos criar a coluna de receita multiplicando a quantidade vendida pelo preço unitário de cada produto"
      ]
    },
    {
      "cell_type": "code",
      "execution_count": null,
      "metadata": {},
      "outputs": [],
      "source": [
        "# Calcular TotalPrice\n"
      ]
    },
    {
      "cell_type": "markdown",
      "metadata": {},
      "source": [
        "## Análise descritiva (EDA)\n",
        "\n",
        "* Estatísticas descritivas\n",
        "* Visualização de dados (histogramas e boxplots)\n",
        "* Matriz de correlação \n",
        "* Análise de produtos"
      ]
    },
    {
      "cell_type": "markdown",
      "metadata": {},
      "source": [
        "* Para começar vamos usar o método **.describe()** para obter as estatísticas descritivas das 2 tabelas. Na sequência vamos usar dois gráficos diferentes do seaborn. **histplot** e **boxplot**."
      ]
    },
    {
      "cell_type": "code",
      "execution_count": null,
      "metadata": {},
      "outputs": [],
      "source": [
        "# Usar o describe para tabela vendas\n"
      ]
    },
    {
      "cell_type": "code",
      "execution_count": null,
      "metadata": {},
      "outputs": [],
      "source": [
        "# Usar describe para tabela clientes\n"
      ]
    },
    {
      "cell_type": "markdown",
      "metadata": {},
      "source": [
        "### Gráfico de Histograma\n",
        "\n",
        "O histograma é uma representação gráfica da distribuição de uma variável numérica, agrupando os dados em intervalos (bins). Ele nos dá uma visão geral da distribuição dos dados, mostrando a frequência de valores dentro de cada intervalo.\n",
        "\n",
        "### Interpretação do Histograma\n",
        "\n",
        "No histograma podemos observar:\n",
        "\n",
        "* A forma geral da distribuição das idades dos clientes.\n",
        "* A centralização e dispersão dos dados.\n",
        "* A presença de qualquer tendência ou padrão (por exemplo, uma distribuição normal, assimetria, etc.).\n",
        "* Áreas de alta e baixa densidade de dados.\n"
      ]
    },
    {
      "cell_type": "code",
      "execution_count": null,
      "metadata": {},
      "outputs": [],
      "source": [
        "# Histograma da idade dos clientes\n"
      ]
    },
    {
      "cell_type": "markdown",
      "metadata": {},
      "source": [
        "### Gráfico de Boxplot\n",
        "\n",
        "O boxplot, também conhecido como diagrama de caixa, ele ajuda a visualizar a distribuição de um conjunto de dados. Exibe a mediana, os quartis e os valores atípicos de forma visual. Os principais elementos são:\n",
        "\n",
        "**Mediana (linha dentro da caixa):**\n",
        "* Representa o valor central dos dados.\n",
        "* No boxplot de salários anuais por gênero, a linha dentro da caixa mostra o salário mediano para cada gênero.\n",
        "\n",
        "**Quartis (caixa):**\n",
        "* A caixa vai do primeiro quartil (Q1) ao terceiro quartil (Q3), abrangendo o interquartil range (IQR), que representa os 50% intermediários dos dados.\n",
        "* O Q1 é o valor abaixo do qual estão 25% dos dados, e o Q3 é o valor abaixo do qual estão 75% dos dados.\n",
        "\n",
        "**Bigodes (linhas que se estendem das caixas):**\n",
        "* Mostram a variabilidade fora dos quartis.\n",
        "* O limite dos bigodes geralmente é definido como 1,5 vezes o IQR a partir dos quartis.\n",
        "* No gráfico, os bigodes mostram a extensão dos salários que não são considerados valores atípicos.\n",
        "\n",
        "**Valores atípicos ou Outliers (pontos fora dos bigodes):**\n",
        "* Representam valores que estão fora do alcance dos bigodes e são considerados anomalias ou exceções, também chamados de outliers"
      ]
    },
    {
      "cell_type": "code",
      "execution_count": null,
      "metadata": {},
      "outputs": [],
      "source": [
        "# Boxplot do salário anual por gênero\n"
      ]
    },
    {
      "cell_type": "markdown",
      "metadata": {},
      "source": [
        "* Sabemos que há uma grande variedade de produtos e clientes. Para iniciar, vamos usar o método **'nunique()'** para descobrir quantos produtos únicos e clientes temos na nossa tabela"
      ]
    },
    {
      "cell_type": "code",
      "execution_count": null,
      "metadata": {},
      "outputs": [],
      "source": [
        "# Contar a quantidade de IDs de produto únicas e quant. de clientes\n"
      ]
    },
    {
      "cell_type": "markdown",
      "metadata": {},
      "source": [
        "* Na tabela dados_vendas, temos mais de 3939 produtos. Por isso vamos filtrar apenas os mais vendidos em quantidade e receita usando o método **'groupby'**, somando as duas colunas"
      ]
    },
    {
      "cell_type": "code",
      "execution_count": null,
      "metadata": {},
      "outputs": [],
      "source": [
        "# Agrupar por ID do produto e somar a quantidade vendida\n",
        "\n",
        "# Ordenar pelo total de quantidade vendida em ordem decrescente\n",
        "\n",
        "# Selecionar os 15 produtos com maior quantidade vendida\n"
      ]
    },
    {
      "cell_type": "code",
      "execution_count": null,
      "metadata": {},
      "outputs": [],
      "source": [
        "# Plotar os 15 produtos com maior quantidade vendida\n"
      ]
    },
    {
      "cell_type": "code",
      "execution_count": null,
      "metadata": {},
      "outputs": [],
      "source": [
        "# Plotar os 15 produtos com maior quantidade vendida\n"
      ]
    },
    {
      "cell_type": "markdown",
      "metadata": {},
      "source": [
        "* Para descobri a média salarial por país podemos combinar os métodos **'.groupy'** com **'.mean'**"
      ]
    },
    {
      "cell_type": "code",
      "execution_count": null,
      "metadata": {},
      "outputs": [],
      "source": [
        "# Agrupar dados por país e calcular a média de salário anual\n"
      ]
    },
    {
      "cell_type": "code",
      "execution_count": null,
      "metadata": {},
      "outputs": [],
      "source": [
        "# Gráfico de barras do salário médio por país\n"
      ]
    },
    {
      "cell_type": "code",
      "execution_count": null,
      "metadata": {},
      "outputs": [],
      "source": [
        "# Lista de países selecionados\n",
        "\n",
        "\n",
        "# Filtrar o DataFrame para incluir apenas os países selecionados\n"
      ]
    },
    {
      "cell_type": "code",
      "execution_count": null,
      "metadata": {},
      "outputs": [],
      "source": [
        "# Agrupar dados por país e calcular a média de salário anual\n"
      ]
    },
    {
      "cell_type": "code",
      "execution_count": null,
      "metadata": {},
      "outputs": [],
      "source": [
        "# Gráfico de barras do salário médio por país\n"
      ]
    },
    {
      "cell_type": "markdown",
      "metadata": {},
      "source": [
        "# Merge entre tabelas "
      ]
    },
    {
      "cell_type": "code",
      "execution_count": null,
      "metadata": {},
      "outputs": [],
      "source": [
        "# Realizar o merge entre os dois DataFrames\n"
      ]
    },
    {
      "cell_type": "code",
      "execution_count": null,
      "metadata": {},
      "outputs": [],
      "source": [
        "# Visualizar tipo de dados\n"
      ]
    },
    {
      "cell_type": "markdown",
      "metadata": {},
      "source": [
        "### Valor acumulado por ID de cliente"
      ]
    },
    {
      "cell_type": "code",
      "execution_count": null,
      "metadata": {},
      "outputs": [],
      "source": [
        "# Obter o valor acumulado por cliente agrupando por Customer.ID\n"
      ]
    },
    {
      "cell_type": "markdown",
      "metadata": {},
      "source": [
        "### Ticket médio por País "
      ]
    },
    {
      "cell_type": "code",
      "execution_count": null,
      "metadata": {},
      "outputs": [],
      "source": [
        "# Obter o ticket médio fazendo a média de TotalPrice\n"
      ]
    },
    {
      "cell_type": "markdown",
      "metadata": {},
      "source": [
        "# Como lidar com valores negativos"
      ]
    },
    {
      "cell_type": "code",
      "execution_count": null,
      "metadata": {},
      "outputs": [],
      "source": [
        "# Substituir valores negativos por 0\n"
      ]
    },
    {
      "cell_type": "code",
      "execution_count": null,
      "metadata": {},
      "outputs": [],
      "source": [
        "# Filtrar valores negativos e remover linhas\n"
      ]
    },
    {
      "cell_type": "code",
      "execution_count": null,
      "metadata": {},
      "outputs": [],
      "source": [
        "# Visualizar tabela"
      ]
    },
    {
      "cell_type": "markdown",
      "metadata": {},
      "source": [
        "### Matriz de correlação \n",
        "\n",
        "* Para obter a correlação entre as variáveis da nossa tabela gold vamos usar o método **.corr()**. Em seguida vamos plotar uma matriz de correlação usando matplotlib e seaborn"
      ]
    },
    {
      "cell_type": "code",
      "execution_count": null,
      "metadata": {},
      "outputs": [],
      "source": [
        "# Calcular matriz de correlação\n",
        "\n",
        "\n",
        "# Matriz de correlação\n"
      ]
    }
  ],
  "metadata": {
    "colab": {
      "provenance": []
    },
    "kernelspec": {
      "display_name": "Python 3 (ipykernel)",
      "language": "python",
      "name": "python3"
    },
    "language_info": {
      "codemirror_mode": {
        "name": "ipython",
        "version": 3
      },
      "file_extension": ".py",
      "mimetype": "text/x-python",
      "name": "python",
      "nbconvert_exporter": "python",
      "pygments_lexer": "ipython3",
      "version": "3.10.10"
    }
  },
  "nbformat": 4,
  "nbformat_minor": 0
}
